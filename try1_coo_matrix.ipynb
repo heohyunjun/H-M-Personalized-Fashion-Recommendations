{
  "metadata": {
    "kernelspec": {
      "language": "python",
      "display_name": "Python 3",
      "name": "python3"
    },
    "language_info": {
      "name": "python",
      "version": "3.7.12",
      "mimetype": "text/x-python",
      "codemirror_mode": {
        "name": "ipython",
        "version": 3
      },
      "pygments_lexer": "ipython3",
      "nbconvert_exporter": "python",
      "file_extension": ".py"
    },
    "colab": {
      "name": "notebookbc502deb5d.ipynb",
      "provenance": []
    }
  },
  "nbformat_minor": 0,
  "nbformat": 4,
  "cells": [
    {
      "cell_type": "code",
      "source": [
        "# This Python 3 environment comes with many helpful analytics libraries installed\n",
        "# It is defined by the kaggle/python Docker image: https://github.com/kaggle/docker-python\n",
        "# For example, here's several helpful packages to load\n",
        "\n",
        "import numpy as np # linear algebra\n",
        "import pandas as pd # data processing, CSV file I/O (e.g. pd.read_csv)\n",
        "\n",
        "# Input data files are available in the read-only \"../input/\" directory\n",
        "# For example, running this (by clicking run or pressing Shift+Enter) will list all files under the input directory\n",
        "\n",
        "import os\n",
        "for dirname, _, filenames in os.walk('/kaggle/input'):\n",
        "    for filename in filenames:\n",
        "        print(os.path.join(dirname, filename))\n",
        "\n",
        "# You can write up to 20GB to the current directory (/kaggle/working/) that gets preserved as output when you create a version using \"Save & Run All\" \n",
        "# You can also write temporary files to /kaggle/temp/, but they won't be saved outside of the current session"
      ],
      "metadata": {
        "_uuid": "8f2839f25d086af736a60e9eeb907d3b93b6e0e5",
        "_cell_guid": "b1076dfc-b9ad-4769-8c92-a6c4dae69d19",
        "execution": {
          "iopub.status.busy": "2022-07-09T06:26:13.417393Z",
          "iopub.execute_input": "2022-07-09T06:26:13.417821Z",
          "iopub.status.idle": "2022-07-09T06:26:41.115512Z",
          "shell.execute_reply.started": "2022-07-09T06:26:13.417717Z",
          "shell.execute_reply": "2022-07-09T06:26:41.113775Z"
        },
        "collapsed": true,
        "jupyter": {
          "outputs_hidden": true
        },
        "trusted": true,
        "id": "8vTueH7WQ5Pp"
      },
      "execution_count": null,
      "outputs": []
    },
    {
      "cell_type": "code",
      "source": [
        "import os\n",
        "os.environ['OPENBLAS_NUM_THREADS']='1'\n",
        "import numpy as np\n",
        "import pandas as pd\n",
        "import implicit\n",
        "from scipy.sparse import coo_matrix\n",
        "from implicit.evaluation import mean_average_precision_at_k"
      ],
      "metadata": {
        "execution": {
          "iopub.status.busy": "2022-07-09T13:47:43.905279Z",
          "iopub.execute_input": "2022-07-09T13:47:43.905802Z",
          "iopub.status.idle": "2022-07-09T13:47:43.910575Z",
          "shell.execute_reply.started": "2022-07-09T13:47:43.905771Z",
          "shell.execute_reply": "2022-07-09T13:47:43.909850Z"
        },
        "trusted": true,
        "id": "XbFOvxnaQ5Pw"
      },
      "execution_count": null,
      "outputs": []
    },
    {
      "cell_type": "code",
      "source": [
        "\n",
        "base_path = '../input/h-and-m-personalized-fashion-recommendations/'\n",
        "csv_train = f'{base_path}transactions_train.csv'\n",
        "csv_sub = f'{base_path}sample_submission.csv'\n",
        "csv_users = f'{base_path}customers.csv'\n",
        "csv_items = f'{base_path}articles.csv'\n",
        "\n",
        "df = pd.read_csv(csv_train, dtype={'article_id': str}, parse_dates=['t_dat'])\n",
        "df_sub = pd.read_csv(csv_sub)\n",
        "dfu = pd.read_csv(csv_users)\n",
        "dfi = pd.read_csv(csv_items, dtype={'article_id': str})"
      ],
      "metadata": {
        "execution": {
          "iopub.status.busy": "2022-07-09T13:47:46.054174Z",
          "iopub.execute_input": "2022-07-09T13:47:46.054625Z",
          "iopub.status.idle": "2022-07-09T13:49:23.006308Z",
          "shell.execute_reply.started": "2022-07-09T13:47:46.054590Z",
          "shell.execute_reply": "2022-07-09T13:49:23.004004Z"
        },
        "trusted": true,
        "id": "qNAxT3WxQ5Px"
      },
      "execution_count": null,
      "outputs": []
    },
    {
      "cell_type": "code",
      "source": [
        "df"
      ],
      "metadata": {
        "execution": {
          "iopub.status.busy": "2022-07-09T13:49:26.694403Z",
          "iopub.execute_input": "2022-07-09T13:49:26.694973Z",
          "iopub.status.idle": "2022-07-09T13:49:26.728625Z",
          "shell.execute_reply.started": "2022-07-09T13:49:26.694904Z",
          "shell.execute_reply": "2022-07-09T13:49:26.726816Z"
        },
        "trusted": true,
        "id": "TKmI7ozeQ5Px"
      },
      "execution_count": null,
      "outputs": []
    },
    {
      "cell_type": "code",
      "source": [
        "dfu"
      ],
      "metadata": {
        "execution": {
          "iopub.status.busy": "2022-07-09T13:49:32.171026Z",
          "iopub.execute_input": "2022-07-09T13:49:32.171401Z",
          "iopub.status.idle": "2022-07-09T13:49:32.205180Z",
          "shell.execute_reply.started": "2022-07-09T13:49:32.171370Z",
          "shell.execute_reply": "2022-07-09T13:49:32.203986Z"
        },
        "trusted": true,
        "id": "CV3-5XOhQ5Py"
      },
      "execution_count": null,
      "outputs": []
    },
    {
      "cell_type": "code",
      "source": [
        "df['t_dat'] > '2020-08-21'"
      ],
      "metadata": {
        "execution": {
          "iopub.status.busy": "2022-07-09T13:49:36.359511Z",
          "iopub.execute_input": "2022-07-09T13:49:36.360293Z",
          "iopub.status.idle": "2022-07-09T13:49:36.493086Z",
          "shell.execute_reply.started": "2022-07-09T13:49:36.360240Z",
          "shell.execute_reply": "2022-07-09T13:49:36.491717Z"
        },
        "trusted": true,
        "id": "fCIUEO8hQ5Pz"
      },
      "execution_count": null,
      "outputs": []
    },
    {
      "cell_type": "code",
      "source": [
        "# 20년 8월 21일 이후 데이터셋만 사용\n",
        "df = df[df['t_dat'] > '2020-08-21']\n",
        "df.shape"
      ],
      "metadata": {
        "execution": {
          "iopub.status.busy": "2022-07-09T13:49:38.542789Z",
          "iopub.execute_input": "2022-07-09T13:49:38.543247Z",
          "iopub.status.idle": "2022-07-09T13:49:38.824080Z",
          "shell.execute_reply.started": "2022-07-09T13:49:38.543213Z",
          "shell.execute_reply": "2022-07-09T13:49:38.822942Z"
        },
        "trusted": true,
        "id": "Fs1b4H75Q5Pz"
      },
      "execution_count": null,
      "outputs": []
    },
    {
      "cell_type": "code",
      "source": [
        "df"
      ],
      "metadata": {
        "execution": {
          "iopub.status.busy": "2022-07-09T13:49:41.765164Z",
          "iopub.execute_input": "2022-07-09T13:49:41.765855Z",
          "iopub.status.idle": "2022-07-09T13:49:41.786008Z",
          "shell.execute_reply.started": "2022-07-09T13:49:41.765813Z",
          "shell.execute_reply": "2022-07-09T13:49:41.784515Z"
        },
        "trusted": true,
        "id": "E4lDBA-7Q5P1"
      },
      "execution_count": null,
      "outputs": []
    },
    {
      "cell_type": "code",
      "source": [
        "df['t_dat']"
      ],
      "metadata": {
        "execution": {
          "iopub.status.busy": "2022-07-09T13:49:44.656466Z",
          "iopub.execute_input": "2022-07-09T13:49:44.656907Z",
          "iopub.status.idle": "2022-07-09T13:49:44.668346Z",
          "shell.execute_reply.started": "2022-07-09T13:49:44.656873Z",
          "shell.execute_reply": "2022-07-09T13:49:44.666797Z"
        },
        "trusted": true,
        "id": "eVEQevQJQ5P2"
      },
      "execution_count": null,
      "outputs": []
    },
    {
      "cell_type": "code",
      "source": [
        "df['t_dat'].max()"
      ],
      "metadata": {
        "execution": {
          "iopub.status.busy": "2022-07-09T13:49:52.758373Z",
          "iopub.execute_input": "2022-07-09T13:49:52.758735Z",
          "iopub.status.idle": "2022-07-09T13:49:52.770314Z",
          "shell.execute_reply.started": "2022-07-09T13:49:52.758706Z",
          "shell.execute_reply": "2022-07-09T13:49:52.769252Z"
        },
        "trusted": true,
        "id": "h7SAbulWQ5P2"
      },
      "execution_count": null,
      "outputs": []
    },
    {
      "cell_type": "code",
      "source": [
        "# 사용자와 항목 모두에 0부터 시작하는 자동 증분 ID 할당\n",
        "\n",
        "# 사용자 ID -> 중복 없이\n",
        "ALL_USERS = dfu['customer_id'].unique().tolist()\n",
        "\n",
        "# 물건 ID -> 중복 없이\n",
        "ALL_ITEMS = dfi['article_id'].unique().tolist()\n"
      ],
      "metadata": {
        "execution": {
          "iopub.status.busy": "2022-07-09T13:49:54.657696Z",
          "iopub.execute_input": "2022-07-09T13:49:54.658186Z",
          "iopub.status.idle": "2022-07-09T13:49:55.416290Z",
          "shell.execute_reply.started": "2022-07-09T13:49:54.658149Z",
          "shell.execute_reply": "2022-07-09T13:49:55.414878Z"
        },
        "trusted": true,
        "id": "Nbwl8_qkQ5P3"
      },
      "execution_count": null,
      "outputs": []
    },
    {
      "cell_type": "code",
      "source": [
        "# 인덱스 할당\n",
        "user_ids = dict(list(enumerate(ALL_USERS)))\n",
        "item_ids = dict(list(enumerate(ALL_ITEMS)))"
      ],
      "metadata": {
        "execution": {
          "iopub.status.busy": "2022-07-09T13:49:56.694232Z",
          "iopub.execute_input": "2022-07-09T13:49:56.694716Z",
          "iopub.status.idle": "2022-07-09T13:49:57.345659Z",
          "shell.execute_reply.started": "2022-07-09T13:49:56.694682Z",
          "shell.execute_reply": "2022-07-09T13:49:57.344043Z"
        },
        "trusted": true,
        "id": "WrvLiRItQ5P4"
      },
      "execution_count": null,
      "outputs": []
    },
    {
      "cell_type": "code",
      "source": [
        "# 아이디 : 인덱스 순서로 매핑\n",
        "user_map = {u: uidx for uidx, u in user_ids.items()}\n",
        "item_map = {i: iidx for iidx, i in item_ids.items()}"
      ],
      "metadata": {
        "execution": {
          "iopub.status.busy": "2022-07-09T13:49:59.440302Z",
          "iopub.execute_input": "2022-07-09T13:49:59.440748Z",
          "iopub.status.idle": "2022-07-09T13:50:00.147230Z",
          "shell.execute_reply.started": "2022-07-09T13:49:59.440716Z",
          "shell.execute_reply": "2022-07-09T13:50:00.145653Z"
        },
        "trusted": true,
        "id": "_USQFoteQ5P4"
      },
      "execution_count": null,
      "outputs": []
    },
    {
      "cell_type": "code",
      "source": [
        "user_map"
      ],
      "metadata": {
        "execution": {
          "iopub.status.busy": "2022-07-09T13:50:01.306825Z",
          "iopub.execute_input": "2022-07-09T13:50:01.308282Z",
          "iopub.status.idle": "2022-07-09T13:50:01.363623Z",
          "shell.execute_reply.started": "2022-07-09T13:50:01.308220Z",
          "shell.execute_reply": "2022-07-09T13:50:01.362004Z"
        },
        "collapsed": true,
        "jupyter": {
          "outputs_hidden": true
        },
        "trusted": true,
        "id": "-lNZIj6qQ5P4"
      },
      "execution_count": null,
      "outputs": []
    },
    {
      "cell_type": "code",
      "source": [
        "df.head()"
      ],
      "metadata": {
        "execution": {
          "iopub.status.busy": "2022-07-09T13:50:06.394853Z",
          "iopub.execute_input": "2022-07-09T13:50:06.396039Z",
          "iopub.status.idle": "2022-07-09T13:50:06.416446Z",
          "shell.execute_reply.started": "2022-07-09T13:50:06.395973Z",
          "shell.execute_reply": "2022-07-09T13:50:06.415031Z"
        },
        "trusted": true,
        "id": "7D_5BNLeQ5P5"
      },
      "execution_count": null,
      "outputs": []
    },
    {
      "cell_type": "code",
      "source": [
        "df['user_id'] = df['customer_id'].map(user_map)\n",
        "df['item_id'] = df['article_id'].map(item_map)\n",
        "\n",
        "del dfu, dfi"
      ],
      "metadata": {
        "execution": {
          "iopub.status.busy": "2022-07-09T13:50:09.737470Z",
          "iopub.execute_input": "2022-07-09T13:50:09.738016Z",
          "iopub.status.idle": "2022-07-09T13:50:11.907179Z",
          "shell.execute_reply.started": "2022-07-09T13:50:09.737976Z",
          "shell.execute_reply": "2022-07-09T13:50:11.905510Z"
        },
        "trusted": true,
        "id": "Zpz_FevaQ5P5"
      },
      "execution_count": null,
      "outputs": []
    },
    {
      "cell_type": "code",
      "source": [
        "df.shape"
      ],
      "metadata": {
        "execution": {
          "iopub.status.busy": "2022-07-09T13:50:14.456556Z",
          "iopub.execute_input": "2022-07-09T13:50:14.457011Z",
          "iopub.status.idle": "2022-07-09T13:50:14.463845Z",
          "shell.execute_reply.started": "2022-07-09T13:50:14.456975Z",
          "shell.execute_reply": "2022-07-09T13:50:14.462983Z"
        },
        "trusted": true,
        "id": "HSoAApp0Q5P5"
      },
      "execution_count": null,
      "outputs": []
    },
    {
      "cell_type": "markdown",
      "source": [
        "#### 문제의 주요 핵심은 일반적으로 사용자와 항목이있는 행렬로 모델링되며 사용자가 항목을 구입했는지 (또는 좋아하는지)를 나타내는 값을 사용하기 때문에 추천 시스템에서 scipy 희소 행렬을 사용하는 것이 일반적입니다."
      ],
      "metadata": {
        "id": "wZq-qf_7Q5P6"
      }
    },
    {
      "cell_type": "code",
      "source": [
        "## CSR Matrices\n",
        "row = df['user_id'].values\n",
        "col = df['item_id'].values\n",
        "data = np.ones(df.shape[0])\n",
        "coo_train = coo_matrix((data, (row, col)), shape=(len(ALL_USERS), len(ALL_ITEMS)))\n",
        "coo_train"
      ],
      "metadata": {
        "execution": {
          "iopub.status.busy": "2022-07-09T13:50:19.041332Z",
          "iopub.execute_input": "2022-07-09T13:50:19.041799Z",
          "iopub.status.idle": "2022-07-09T13:50:19.064151Z",
          "shell.execute_reply.started": "2022-07-09T13:50:19.041763Z",
          "shell.execute_reply": "2022-07-09T13:50:19.063211Z"
        },
        "trusted": true,
        "id": "SkgBsud3Q5P7"
      },
      "execution_count": null,
      "outputs": []
    },
    {
      "cell_type": "markdown",
      "source": [
        "# 데이터 작동 확인"
      ],
      "metadata": {
        "id": "yaUUsB7sQ5P8"
      }
    },
    {
      "cell_type": "code",
      "source": [
        "model = implicit.als.AlternatingLeastSquares(factors=10, iterations=2)\n",
        "model.fit(coo_train)"
      ],
      "metadata": {
        "execution": {
          "iopub.status.busy": "2022-07-09T13:50:51.600595Z",
          "iopub.execute_input": "2022-07-09T13:50:51.601022Z",
          "iopub.status.idle": "2022-07-09T13:50:55.491146Z",
          "shell.execute_reply.started": "2022-07-09T13:50:51.600987Z",
          "shell.execute_reply": "2022-07-09T13:50:55.489450Z"
        },
        "trusted": true,
        "id": "qZ6UHj2SQ5P8"
      },
      "execution_count": null,
      "outputs": []
    },
    {
      "cell_type": "markdown",
      "source": [
        "# 검증"
      ],
      "metadata": {
        "id": "L6Osjor6Q5P9"
      }
    },
    {
      "cell_type": "code",
      "source": [
        "df.shape[0]"
      ],
      "metadata": {
        "execution": {
          "iopub.status.busy": "2022-07-09T13:50:59.469306Z",
          "iopub.execute_input": "2022-07-09T13:50:59.469717Z",
          "iopub.status.idle": "2022-07-09T13:50:59.478901Z",
          "shell.execute_reply.started": "2022-07-09T13:50:59.469684Z",
          "shell.execute_reply": "2022-07-09T13:50:59.477567Z"
        },
        "trusted": true,
        "id": "03IAezp3Q5P9"
      },
      "execution_count": null,
      "outputs": []
    },
    {
      "cell_type": "code",
      "source": [
        "len(np.ones(df.shape[0]))"
      ],
      "metadata": {
        "execution": {
          "iopub.status.busy": "2022-07-09T13:51:01.037057Z",
          "iopub.execute_input": "2022-07-09T13:51:01.037539Z",
          "iopub.status.idle": "2022-07-09T13:51:01.048223Z",
          "shell.execute_reply.started": "2022-07-09T13:51:01.037501Z",
          "shell.execute_reply": "2022-07-09T13:51:01.046294Z"
        },
        "trusted": true,
        "id": "AyjeSrr7Q5P-"
      },
      "execution_count": null,
      "outputs": []
    },
    {
      "cell_type": "code",
      "source": [
        "def to_user_item_coo(df):\n",
        "    \"\"\" Turn a dataframe with transactions into a COO sparse items x users matrix\"\"\"\n",
        "    row = df['user_id'].values\n",
        "    col = df['item_id'].values\n",
        "    data = np.ones(df.shape[0])\n",
        "    coo = coo_matrix((data, (row, col)), shape=(len(ALL_USERS), len(ALL_ITEMS)))\n",
        "    return coo"
      ],
      "metadata": {
        "execution": {
          "iopub.status.busy": "2022-07-09T13:51:07.704699Z",
          "iopub.execute_input": "2022-07-09T13:51:07.705193Z",
          "iopub.status.idle": "2022-07-09T13:51:07.714351Z",
          "shell.execute_reply.started": "2022-07-09T13:51:07.705156Z",
          "shell.execute_reply": "2022-07-09T13:51:07.712984Z"
        },
        "trusted": true,
        "id": "A9NjKTNXQ5P-"
      },
      "execution_count": null,
      "outputs": []
    },
    {
      "cell_type": "code",
      "source": [
        "df['t_dat'].max()"
      ],
      "metadata": {
        "execution": {
          "iopub.status.busy": "2022-07-09T13:51:09.522308Z",
          "iopub.execute_input": "2022-07-09T13:51:09.522750Z",
          "iopub.status.idle": "2022-07-09T13:51:09.536952Z",
          "shell.execute_reply.started": "2022-07-09T13:51:09.522717Z",
          "shell.execute_reply": "2022-07-09T13:51:09.535171Z"
        },
        "trusted": true,
        "id": "4tNIs4RXQ5P-"
      },
      "execution_count": null,
      "outputs": []
    },
    {
      "cell_type": "code",
      "source": [
        "pd.Timedelta?"
      ],
      "metadata": {
        "execution": {
          "iopub.status.busy": "2022-07-09T07:54:09.403993Z",
          "iopub.execute_input": "2022-07-09T07:54:09.404439Z",
          "iopub.status.idle": "2022-07-09T07:54:09.414066Z",
          "shell.execute_reply.started": "2022-07-09T07:54:09.404385Z",
          "shell.execute_reply": "2022-07-09T07:54:09.412715Z"
        },
        "trusted": true,
        "id": "de3XKxMPQ5P_"
      },
      "execution_count": null,
      "outputs": []
    },
    {
      "cell_type": "code",
      "source": [
        "pd.Timedelta?"
      ],
      "metadata": {
        "execution": {
          "iopub.status.busy": "2022-07-09T07:12:37.083434Z",
          "iopub.execute_input": "2022-07-09T07:12:37.083881Z",
          "iopub.status.idle": "2022-07-09T07:12:37.157308Z",
          "shell.execute_reply.started": "2022-07-09T07:12:37.083849Z",
          "shell.execute_reply": "2022-07-09T07:12:37.156354Z"
        },
        "trusted": true,
        "id": "rpNwBvBxQ5P_"
      },
      "execution_count": null,
      "outputs": []
    },
    {
      "cell_type": "code",
      "source": [
        "validation_days = 7\n",
        "validation_cut = df['t_dat'].max() - pd.Timedelta(days = validation_days)\n",
        "print(validation_cut)"
      ],
      "metadata": {
        "execution": {
          "iopub.status.busy": "2022-07-09T13:51:57.384775Z",
          "iopub.execute_input": "2022-07-09T13:51:57.387636Z",
          "iopub.status.idle": "2022-07-09T13:51:57.409070Z",
          "shell.execute_reply.started": "2022-07-09T13:51:57.387539Z",
          "shell.execute_reply": "2022-07-09T13:51:57.407370Z"
        },
        "trusted": true,
        "id": "PBC-wNtcQ5P_"
      },
      "execution_count": null,
      "outputs": []
    },
    {
      "cell_type": "code",
      "source": [
        "df[df['t_dat'] < validation_cut]"
      ],
      "metadata": {
        "execution": {
          "iopub.status.busy": "2022-07-09T13:52:01.688289Z",
          "iopub.execute_input": "2022-07-09T13:52:01.688740Z",
          "iopub.status.idle": "2022-07-09T13:52:01.827145Z",
          "shell.execute_reply.started": "2022-07-09T13:52:01.688709Z",
          "shell.execute_reply": "2022-07-09T13:52:01.825709Z"
        },
        "trusted": true,
        "id": "HvInaTh1Q5P_"
      },
      "execution_count": null,
      "outputs": []
    },
    {
      "cell_type": "code",
      "source": [
        "df[df['t_dat'] >= validation_cut]"
      ],
      "metadata": {
        "execution": {
          "iopub.status.busy": "2022-07-09T13:52:05.336065Z",
          "iopub.execute_input": "2022-07-09T13:52:05.337364Z",
          "iopub.status.idle": "2022-07-09T13:52:05.384681Z",
          "shell.execute_reply.started": "2022-07-09T13:52:05.337308Z",
          "shell.execute_reply": "2022-07-09T13:52:05.383270Z"
        },
        "trusted": true,
        "id": "dO11oKhoQ5QA"
      },
      "execution_count": null,
      "outputs": []
    },
    {
      "cell_type": "code",
      "source": [
        "# 데이터셋을 학습, 검증 셋으로 분류 \n",
        "def split_data(df, validation_days=7):\n",
        "    validation_cut = df['t_dat'].max() - pd.Timedelta(days=validation_days)\n",
        "\n",
        "    df_train = df[df['t_dat'] < validation_cut]\n",
        "    df_val = df[df['t_dat'] >= validation_cut]\n",
        "    return df_train, df_val\n"
      ],
      "metadata": {
        "execution": {
          "iopub.status.busy": "2022-07-09T13:52:09.654870Z",
          "iopub.execute_input": "2022-07-09T13:52:09.655402Z",
          "iopub.status.idle": "2022-07-09T13:52:09.665059Z",
          "shell.execute_reply.started": "2022-07-09T13:52:09.655362Z",
          "shell.execute_reply": "2022-07-09T13:52:09.663728Z"
        },
        "trusted": true,
        "id": "1fqYX5_AQ5QA"
      },
      "execution_count": null,
      "outputs": []
    },
    {
      "cell_type": "code",
      "source": [
        "# 위 함수들을 사용해서 학습, 검증 세트에 대한 매트릭스 생성\n",
        "def get_val_matrices(df, validation_days=7):\n",
        "\n",
        "    df_train, df_val = split_data(df, validation_days=validation_days)\n",
        "    coo_train = to_user_item_coo(df_train)\n",
        "    coo_val = to_user_item_coo(df_val)\n",
        "\n",
        "    csr_train = coo_train.tocsr()\n",
        "    csr_val = coo_val.tocsr()\n",
        "    \n",
        "    return {'coo_train': coo_train,\n",
        "            'csr_train': csr_train,\n",
        "            'csr_val': csr_val\n",
        "          }"
      ],
      "metadata": {
        "execution": {
          "iopub.status.busy": "2022-07-09T13:52:40.039294Z",
          "iopub.execute_input": "2022-07-09T13:52:40.039733Z",
          "iopub.status.idle": "2022-07-09T13:52:40.047061Z",
          "shell.execute_reply.started": "2022-07-09T13:52:40.039701Z",
          "shell.execute_reply": "2022-07-09T13:52:40.046095Z"
        },
        "trusted": true,
        "id": "1nUroWddQ5QA"
      },
      "execution_count": null,
      "outputs": []
    },
    {
      "cell_type": "code",
      "source": [
        "def validate(matrices, factors=200, iterations=20, regularization=0.01, show_progress=True):\n",
        "    \"\"\" Train an ALS model with <<factors>> (embeddings dimension) \n",
        "    for <<iterations>> over matrices and validate with MAP@12\n",
        "    \"\"\"\n",
        "    coo_train, csr_train, csr_val = matrices['coo_train'], matrices['csr_train'], matrices['csr_val']\n",
        "    \n",
        "    model = implicit.als.AlternatingLeastSquares(factors=factors, \n",
        "                                                 iterations=iterations, \n",
        "                                                 regularization=regularization, \n",
        "                                                 random_state=42)\n",
        "    model.fit(coo_train, show_progress=show_progress)\n",
        "    \n",
        "    # The MAPK by implicit doesn't allow to calculate allowing repeated items, which is the case.\n",
        "    # TODO: change MAP@12 to a library that allows repeated items in prediction\n",
        "    print(f\"csr_train= {csr_train}\")\n",
        "    print(f\"csr_val= {csr_val}\")\n",
        "    map12 = mean_average_precision_at_k(model, csr_train, csr_val, K=12, show_progress=show_progress, num_threads=4)\n",
        "    print(f\"Factors: {factors:>3} - Iterations: {iterations:>2} - Regularization: {regularization:4.3f} ==> MAP@12: {map12:6.5f}\")\n",
        "    return map12"
      ],
      "metadata": {
        "execution": {
          "iopub.status.busy": "2022-07-09T13:53:06.631383Z",
          "iopub.execute_input": "2022-07-09T13:53:06.631804Z",
          "iopub.status.idle": "2022-07-09T13:53:06.641791Z",
          "shell.execute_reply.started": "2022-07-09T13:53:06.631772Z",
          "shell.execute_reply": "2022-07-09T13:53:06.640386Z"
        },
        "trusted": true,
        "id": "2pE_d8TZQ5QA"
      },
      "execution_count": null,
      "outputs": []
    },
    {
      "cell_type": "code",
      "source": [
        "matrices = get_val_matrices(df)"
      ],
      "metadata": {
        "execution": {
          "iopub.status.busy": "2022-07-09T13:53:09.564645Z",
          "iopub.execute_input": "2022-07-09T13:53:09.565457Z",
          "iopub.status.idle": "2022-07-09T13:53:09.838041Z",
          "shell.execute_reply.started": "2022-07-09T13:53:09.565418Z",
          "shell.execute_reply": "2022-07-09T13:53:09.836727Z"
        },
        "trusted": true,
        "id": "l-HzejZkQ5QB"
      },
      "execution_count": null,
      "outputs": []
    },
    {
      "cell_type": "code",
      "source": [
        "df"
      ],
      "metadata": {
        "execution": {
          "iopub.status.busy": "2022-07-09T13:53:17.376202Z",
          "iopub.execute_input": "2022-07-09T13:53:17.376601Z",
          "iopub.status.idle": "2022-07-09T13:53:17.399417Z",
          "shell.execute_reply.started": "2022-07-09T13:53:17.376571Z",
          "shell.execute_reply": "2022-07-09T13:53:17.398017Z"
        },
        "trusted": true,
        "id": "ex40fS1eQ5QB"
      },
      "execution_count": null,
      "outputs": []
    },
    {
      "cell_type": "code",
      "source": [
        "factors=200\n",
        "iterations=20\n",
        "regularization=0.01\n",
        "show_progress=True"
      ],
      "metadata": {
        "execution": {
          "iopub.status.busy": "2022-07-09T07:54:41.114626Z",
          "iopub.execute_input": "2022-07-09T07:54:41.115205Z",
          "iopub.status.idle": "2022-07-09T07:54:41.121426Z",
          "shell.execute_reply.started": "2022-07-09T07:54:41.115161Z",
          "shell.execute_reply": "2022-07-09T07:54:41.120225Z"
        },
        "trusted": true,
        "id": "ik5k3gLbQ5QB"
      },
      "execution_count": null,
      "outputs": []
    },
    {
      "cell_type": "code",
      "source": [
        "matrices"
      ],
      "metadata": {
        "execution": {
          "iopub.status.busy": "2022-07-09T13:53:33.517126Z",
          "iopub.execute_input": "2022-07-09T13:53:33.517684Z",
          "iopub.status.idle": "2022-07-09T13:53:33.526903Z",
          "shell.execute_reply.started": "2022-07-09T13:53:33.517641Z",
          "shell.execute_reply": "2022-07-09T13:53:33.525465Z"
        },
        "trusted": true,
        "id": "m1NP45QsQ5QC"
      },
      "execution_count": null,
      "outputs": []
    },
    {
      "cell_type": "code",
      "source": [
        "best_map12 = 0\n",
        "for factors in [40, 50, 60, 100, 200, 500, 1000]:\n",
        "    for iterations in [3, 12, 14, 15, 20]:\n",
        "        for regularization in [0.01]:\n",
        "            map12 = validate(matrices, factors, iterations, regularization, show_progress=False)\n",
        "            if map12 > best_map12:\n",
        "                best_map12 = map12\n",
        "                best_params = {'factors': factors, 'iterations': iterations, 'regularization': regularization}\n",
        "                print(f\"Best MAP@12 found. Updating: {best_params}\")"
      ],
      "metadata": {
        "execution": {
          "iopub.status.busy": "2022-07-09T13:53:46.292084Z",
          "iopub.execute_input": "2022-07-09T13:53:46.292503Z",
          "iopub.status.idle": "2022-07-09T13:57:20.983653Z",
          "shell.execute_reply.started": "2022-07-09T13:53:46.292473Z",
          "shell.execute_reply": "2022-07-09T13:57:20.981791Z"
        },
        "trusted": true,
        "id": "7oyTuMuzQ5QC"
      },
      "execution_count": null,
      "outputs": []
    },
    {
      "cell_type": "code",
      "source": [
        "del matrices"
      ],
      "metadata": {
        "id": "p43ldoBtQ5QC"
      },
      "execution_count": null,
      "outputs": []
    },
    {
      "cell_type": "code",
      "source": [
        "coo_train = to_user_item_coo(df)\n",
        "csr_train = coo_train.tocsr()"
      ],
      "metadata": {
        "execution": {
          "iopub.status.busy": "2022-07-09T08:20:03.828627Z",
          "iopub.execute_input": "2022-07-09T08:20:03.829847Z",
          "iopub.status.idle": "2022-07-09T08:20:03.929915Z",
          "shell.execute_reply.started": "2022-07-09T08:20:03.829766Z",
          "shell.execute_reply": "2022-07-09T08:20:03.928883Z"
        },
        "trusted": true,
        "id": "mEFkE9Q1Q5QC"
      },
      "execution_count": null,
      "outputs": []
    },
    {
      "cell_type": "code",
      "source": [
        "def train(coo_train, factors=200, iterations=15, regularization=0.01, show_progress=True):\n",
        "    model = implicit.als.AlternatingLeastSquares(factors=factors, \n",
        "                                                 iterations=iterations, \n",
        "                                                 regularization=regularization, \n",
        "                                                 random_state=42)\n",
        "    model.fit(coo_train, show_progress=show_progress)\n",
        "    return model"
      ],
      "metadata": {
        "execution": {
          "iopub.status.busy": "2022-07-09T08:20:04.607717Z",
          "iopub.execute_input": "2022-07-09T08:20:04.608142Z",
          "iopub.status.idle": "2022-07-09T08:20:04.614318Z",
          "shell.execute_reply.started": "2022-07-09T08:20:04.608107Z",
          "shell.execute_reply": "2022-07-09T08:20:04.613246Z"
        },
        "trusted": true,
        "id": "qkiebNhVQ5QC"
      },
      "execution_count": null,
      "outputs": []
    },
    {
      "cell_type": "code",
      "source": [
        ""
      ],
      "metadata": {
        "id": "PLALYiWdQ5QD"
      },
      "execution_count": null,
      "outputs": []
    },
    {
      "cell_type": "code",
      "source": [
        "model = train(coo_train, **best_params)"
      ],
      "metadata": {
        "id": "YgzosUC6Q5QD"
      },
      "execution_count": null,
      "outputs": []
    }
  ]
}