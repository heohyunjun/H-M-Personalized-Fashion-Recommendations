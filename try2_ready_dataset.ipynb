{
 "cells": [
  {
   "cell_type": "code",
   "execution_count": 1,
   "id": "04ebdb5a",
   "metadata": {
    "_cell_guid": "b1076dfc-b9ad-4769-8c92-a6c4dae69d19",
    "_uuid": "8f2839f25d086af736a60e9eeb907d3b93b6e0e5",
    "execution": {
     "iopub.execute_input": "2022-07-10T13:20:52.977889Z",
     "iopub.status.busy": "2022-07-10T13:20:52.977480Z",
     "iopub.status.idle": "2022-07-10T13:20:52.988365Z",
     "shell.execute_reply": "2022-07-10T13:20:52.987246Z"
    },
    "papermill": {
     "duration": 0.021392,
     "end_time": "2022-07-10T13:20:52.990759",
     "exception": false,
     "start_time": "2022-07-10T13:20:52.969367",
     "status": "completed"
    },
    "tags": []
   },
   "outputs": [],
   "source": [
    "\n",
    "import numpy as np # linear algebra\n",
    "import pandas as pd # data processing, CSV file I/O (e.g. pd.read_csv)\n",
    "import os\n"
   ]
  },
  {
   "cell_type": "code",
   "execution_count": 2,
   "id": "ecb40367",
   "metadata": {
    "execution": {
     "iopub.execute_input": "2022-07-10T13:20:53.003988Z",
     "iopub.status.busy": "2022-07-10T13:20:53.003308Z",
     "iopub.status.idle": "2022-07-10T13:21:58.124732Z",
     "shell.execute_reply": "2022-07-10T13:21:58.123537Z"
    },
    "papermill": {
     "duration": 65.138677,
     "end_time": "2022-07-10T13:21:58.135223",
     "exception": false,
     "start_time": "2022-07-10T13:20:52.996546",
     "status": "completed"
    },
    "tags": []
   },
   "outputs": [
    {
     "name": "stdout",
     "output_type": "stream",
     "text": [
      "(31788324, 5)\n"
     ]
    },
    {
     "data": {
      "text/html": [
       "<div>\n",
       "<style scoped>\n",
       "    .dataframe tbody tr th:only-of-type {\n",
       "        vertical-align: middle;\n",
       "    }\n",
       "\n",
       "    .dataframe tbody tr th {\n",
       "        vertical-align: top;\n",
       "    }\n",
       "\n",
       "    .dataframe thead th {\n",
       "        text-align: right;\n",
       "    }\n",
       "</style>\n",
       "<table border=\"1\" class=\"dataframe\">\n",
       "  <thead>\n",
       "    <tr style=\"text-align: right;\">\n",
       "      <th></th>\n",
       "      <th>t_dat</th>\n",
       "      <th>customer_id</th>\n",
       "      <th>article_id</th>\n",
       "      <th>price</th>\n",
       "      <th>sales_channel_id</th>\n",
       "    </tr>\n",
       "  </thead>\n",
       "  <tbody>\n",
       "    <tr>\n",
       "      <th>0</th>\n",
       "      <td>2018-09-20</td>\n",
       "      <td>000058a12d5b43e67d225668fa1f8d618c13dc232df0ca...</td>\n",
       "      <td>0663713001</td>\n",
       "      <td>0.050831</td>\n",
       "      <td>2</td>\n",
       "    </tr>\n",
       "    <tr>\n",
       "      <th>1</th>\n",
       "      <td>2018-09-20</td>\n",
       "      <td>000058a12d5b43e67d225668fa1f8d618c13dc232df0ca...</td>\n",
       "      <td>0541518023</td>\n",
       "      <td>0.030492</td>\n",
       "      <td>2</td>\n",
       "    </tr>\n",
       "    <tr>\n",
       "      <th>2</th>\n",
       "      <td>2018-09-20</td>\n",
       "      <td>00007d2de826758b65a93dd24ce629ed66842531df6699...</td>\n",
       "      <td>0505221004</td>\n",
       "      <td>0.015237</td>\n",
       "      <td>2</td>\n",
       "    </tr>\n",
       "    <tr>\n",
       "      <th>3</th>\n",
       "      <td>2018-09-20</td>\n",
       "      <td>00007d2de826758b65a93dd24ce629ed66842531df6699...</td>\n",
       "      <td>0685687003</td>\n",
       "      <td>0.016932</td>\n",
       "      <td>2</td>\n",
       "    </tr>\n",
       "    <tr>\n",
       "      <th>4</th>\n",
       "      <td>2018-09-20</td>\n",
       "      <td>00007d2de826758b65a93dd24ce629ed66842531df6699...</td>\n",
       "      <td>0685687004</td>\n",
       "      <td>0.016932</td>\n",
       "      <td>2</td>\n",
       "    </tr>\n",
       "  </tbody>\n",
       "</table>\n",
       "</div>"
      ],
      "text/plain": [
       "        t_dat                                        customer_id  article_id  \\\n",
       "0  2018-09-20  000058a12d5b43e67d225668fa1f8d618c13dc232df0ca...  0663713001   \n",
       "1  2018-09-20  000058a12d5b43e67d225668fa1f8d618c13dc232df0ca...  0541518023   \n",
       "2  2018-09-20  00007d2de826758b65a93dd24ce629ed66842531df6699...  0505221004   \n",
       "3  2018-09-20  00007d2de826758b65a93dd24ce629ed66842531df6699...  0685687003   \n",
       "4  2018-09-20  00007d2de826758b65a93dd24ce629ed66842531df6699...  0685687004   \n",
       "\n",
       "      price  sales_channel_id  \n",
       "0  0.050831                 2  \n",
       "1  0.030492                 2  \n",
       "2  0.015237                 2  \n",
       "3  0.016932                 2  \n",
       "4  0.016932                 2  "
      ]
     },
     "execution_count": 2,
     "metadata": {},
     "output_type": "execute_result"
    }
   ],
   "source": [
    "df = pd.read_csv(\"../input/h-and-m-personalized-fashion-recommendations/transactions_train.csv\", dtype={\"article_id\": str})\n",
    "print(df.shape)\n",
    "\n",
    "\n",
    "df.head()"
   ]
  },
  {
   "cell_type": "code",
   "execution_count": 3,
   "id": "3e3399f9",
   "metadata": {
    "execution": {
     "iopub.execute_input": "2022-07-10T13:21:58.148745Z",
     "iopub.status.busy": "2022-07-10T13:21:58.147870Z",
     "iopub.status.idle": "2022-07-10T13:21:58.157065Z",
     "shell.execute_reply": "2022-07-10T13:21:58.156297Z"
    },
    "papermill": {
     "duration": 0.017869,
     "end_time": "2022-07-10T13:21:58.158915",
     "exception": false,
     "start_time": "2022-07-10T13:21:58.141046",
     "status": "completed"
    },
    "tags": []
   },
   "outputs": [
    {
     "data": {
      "text/plain": [
       "(6358, 5)"
      ]
     },
     "execution_count": 3,
     "metadata": {},
     "output_type": "execute_result"
    }
   ],
   "source": [
    "df = df[::5000]\n",
    "df.shape"
   ]
  },
  {
   "cell_type": "code",
   "execution_count": 4,
   "id": "551526ac",
   "metadata": {
    "execution": {
     "iopub.execute_input": "2022-07-10T13:21:58.172377Z",
     "iopub.status.busy": "2022-07-10T13:21:58.172017Z",
     "iopub.status.idle": "2022-07-10T13:21:58.179291Z",
     "shell.execute_reply": "2022-07-10T13:21:58.178178Z"
    },
    "papermill": {
     "duration": 0.016531,
     "end_time": "2022-07-10T13:21:58.181359",
     "exception": false,
     "start_time": "2022-07-10T13:21:58.164828",
     "status": "completed"
    },
    "tags": []
   },
   "outputs": [
    {
     "data": {
      "text/plain": [
       "t_dat                object\n",
       "customer_id          object\n",
       "article_id           object\n",
       "price               float64\n",
       "sales_channel_id      int64\n",
       "dtype: object"
      ]
     },
     "execution_count": 4,
     "metadata": {},
     "output_type": "execute_result"
    }
   ],
   "source": [
    "# 데이터 타입 확인\n",
    "df.dtypes"
   ]
  },
  {
   "cell_type": "code",
   "execution_count": 5,
   "id": "a345ea03",
   "metadata": {
    "execution": {
     "iopub.execute_input": "2022-07-10T13:21:58.195283Z",
     "iopub.status.busy": "2022-07-10T13:21:58.194897Z",
     "iopub.status.idle": "2022-07-10T13:21:58.210150Z",
     "shell.execute_reply": "2022-07-10T13:21:58.209142Z"
    },
    "papermill": {
     "duration": 0.025066,
     "end_time": "2022-07-10T13:21:58.212381",
     "exception": false,
     "start_time": "2022-07-10T13:21:58.187315",
     "status": "completed"
    },
    "tags": []
   },
   "outputs": [
    {
     "data": {
      "text/html": [
       "<div>\n",
       "<style scoped>\n",
       "    .dataframe tbody tr th:only-of-type {\n",
       "        vertical-align: middle;\n",
       "    }\n",
       "\n",
       "    .dataframe tbody tr th {\n",
       "        vertical-align: top;\n",
       "    }\n",
       "\n",
       "    .dataframe thead th {\n",
       "        text-align: right;\n",
       "    }\n",
       "</style>\n",
       "<table border=\"1\" class=\"dataframe\">\n",
       "  <thead>\n",
       "    <tr style=\"text-align: right;\">\n",
       "      <th></th>\n",
       "      <th>t_dat</th>\n",
       "      <th>customer_id</th>\n",
       "      <th>article_id</th>\n",
       "      <th>price</th>\n",
       "      <th>sales_channel_id</th>\n",
       "    </tr>\n",
       "  </thead>\n",
       "  <tbody>\n",
       "    <tr>\n",
       "      <th>0</th>\n",
       "      <td>2018-09-20</td>\n",
       "      <td>000058a12d5b43e67d225668fa1f8d618c13dc232df0ca...</td>\n",
       "      <td>0663713001</td>\n",
       "      <td>0.050831</td>\n",
       "      <td>2</td>\n",
       "    </tr>\n",
       "    <tr>\n",
       "      <th>5000</th>\n",
       "      <td>2018-09-20</td>\n",
       "      <td>1beeb0fda0fdc5ff5760c05a1b9dfc60f779f70ad59251...</td>\n",
       "      <td>0679494004</td>\n",
       "      <td>0.016085</td>\n",
       "      <td>2</td>\n",
       "    </tr>\n",
       "    <tr>\n",
       "      <th>10000</th>\n",
       "      <td>2018-09-20</td>\n",
       "      <td>366f8084581745ea281849d09dd9f5974c554326923539...</td>\n",
       "      <td>0612182001</td>\n",
       "      <td>0.033881</td>\n",
       "      <td>2</td>\n",
       "    </tr>\n",
       "    <tr>\n",
       "      <th>15000</th>\n",
       "      <td>2018-09-20</td>\n",
       "      <td>4f6e4cdac95581dc7d693a8f52a349fa44a343b5eb85a3...</td>\n",
       "      <td>0564073002</td>\n",
       "      <td>0.008458</td>\n",
       "      <td>2</td>\n",
       "    </tr>\n",
       "    <tr>\n",
       "      <th>20000</th>\n",
       "      <td>2018-09-20</td>\n",
       "      <td>689c6572a628613d1c87b286ba07ff947368b52b1b5839...</td>\n",
       "      <td>0562245004</td>\n",
       "      <td>0.023712</td>\n",
       "      <td>2</td>\n",
       "    </tr>\n",
       "    <tr>\n",
       "      <th>...</th>\n",
       "      <td>...</td>\n",
       "      <td>...</td>\n",
       "      <td>...</td>\n",
       "      <td>...</td>\n",
       "      <td>...</td>\n",
       "    </tr>\n",
       "    <tr>\n",
       "      <th>31765000</th>\n",
       "      <td>2020-09-22</td>\n",
       "      <td>48d9816605d183db54739b5ae69a1e596e2a3ebb0e051e...</td>\n",
       "      <td>0750423020</td>\n",
       "      <td>0.036000</td>\n",
       "      <td>1</td>\n",
       "    </tr>\n",
       "    <tr>\n",
       "      <th>31770000</th>\n",
       "      <td>2020-09-22</td>\n",
       "      <td>6fc127bf47a7785d4737c7c11d68fd0835b36aae8b632c...</td>\n",
       "      <td>0924518002</td>\n",
       "      <td>0.042356</td>\n",
       "      <td>1</td>\n",
       "    </tr>\n",
       "    <tr>\n",
       "      <th>31775000</th>\n",
       "      <td>2020-09-22</td>\n",
       "      <td>977bc45d15bf515730b0e9e6cf7991b4df2defff5ae952...</td>\n",
       "      <td>0572797002</td>\n",
       "      <td>0.011847</td>\n",
       "      <td>2</td>\n",
       "    </tr>\n",
       "    <tr>\n",
       "      <th>31780000</th>\n",
       "      <td>2020-09-22</td>\n",
       "      <td>bd5bcbd7bec3aed4fdbd3b3f581bfa9aaa61ed5b6ca3c0...</td>\n",
       "      <td>0917294003</td>\n",
       "      <td>0.025407</td>\n",
       "      <td>2</td>\n",
       "    </tr>\n",
       "    <tr>\n",
       "      <th>31785000</th>\n",
       "      <td>2020-09-22</td>\n",
       "      <td>e56673a81ca28f189257f7a6b25c4d214dfb36a5d405b2...</td>\n",
       "      <td>0852379003</td>\n",
       "      <td>0.028797</td>\n",
       "      <td>1</td>\n",
       "    </tr>\n",
       "  </tbody>\n",
       "</table>\n",
       "<p>6358 rows × 5 columns</p>\n",
       "</div>"
      ],
      "text/plain": [
       "               t_dat                                        customer_id  \\\n",
       "0         2018-09-20  000058a12d5b43e67d225668fa1f8d618c13dc232df0ca...   \n",
       "5000      2018-09-20  1beeb0fda0fdc5ff5760c05a1b9dfc60f779f70ad59251...   \n",
       "10000     2018-09-20  366f8084581745ea281849d09dd9f5974c554326923539...   \n",
       "15000     2018-09-20  4f6e4cdac95581dc7d693a8f52a349fa44a343b5eb85a3...   \n",
       "20000     2018-09-20  689c6572a628613d1c87b286ba07ff947368b52b1b5839...   \n",
       "...              ...                                                ...   \n",
       "31765000  2020-09-22  48d9816605d183db54739b5ae69a1e596e2a3ebb0e051e...   \n",
       "31770000  2020-09-22  6fc127bf47a7785d4737c7c11d68fd0835b36aae8b632c...   \n",
       "31775000  2020-09-22  977bc45d15bf515730b0e9e6cf7991b4df2defff5ae952...   \n",
       "31780000  2020-09-22  bd5bcbd7bec3aed4fdbd3b3f581bfa9aaa61ed5b6ca3c0...   \n",
       "31785000  2020-09-22  e56673a81ca28f189257f7a6b25c4d214dfb36a5d405b2...   \n",
       "\n",
       "          article_id     price  sales_channel_id  \n",
       "0         0663713001  0.050831                 2  \n",
       "5000      0679494004  0.016085                 2  \n",
       "10000     0612182001  0.033881                 2  \n",
       "15000     0564073002  0.008458                 2  \n",
       "20000     0562245004  0.023712                 2  \n",
       "...              ...       ...               ...  \n",
       "31765000  0750423020  0.036000                 1  \n",
       "31770000  0924518002  0.042356                 1  \n",
       "31775000  0572797002  0.011847                 2  \n",
       "31780000  0917294003  0.025407                 2  \n",
       "31785000  0852379003  0.028797                 1  \n",
       "\n",
       "[6358 rows x 5 columns]"
      ]
     },
     "execution_count": 5,
     "metadata": {},
     "output_type": "execute_result"
    }
   ],
   "source": [
    "df"
   ]
  },
  {
   "cell_type": "code",
   "execution_count": 6,
   "id": "c31de2fb",
   "metadata": {
    "execution": {
     "iopub.execute_input": "2022-07-10T13:21:58.227278Z",
     "iopub.status.busy": "2022-07-10T13:21:58.226865Z",
     "iopub.status.idle": "2022-07-10T13:21:58.255755Z",
     "shell.execute_reply": "2022-07-10T13:21:58.254764Z"
    },
    "papermill": {
     "duration": 0.039733,
     "end_time": "2022-07-10T13:21:58.258395",
     "exception": false,
     "start_time": "2022-07-10T13:21:58.218662",
     "status": "completed"
    },
    "tags": []
   },
   "outputs": [
    {
     "name": "stdout",
     "output_type": "stream",
     "text": [
      "2020-09-22 00:00:00\n",
      "t_dat               datetime64[ns]\n",
      "customer_id                 object\n",
      "article_id                  object\n",
      "price                      float64\n",
      "sales_channel_id             int64\n",
      "dtype: object\n"
     ]
    }
   ],
   "source": [
    "# t_dat 자료형을 datatime 형식으로 바꾸기\n",
    "df['t_dat'] = pd.to_datetime(df['t_dat'])\n",
    "print(df['t_dat'].max())\n",
    "print(df.dtypes)"
   ]
  },
  {
   "cell_type": "code",
   "execution_count": 7,
   "id": "bc747a25",
   "metadata": {
    "execution": {
     "iopub.execute_input": "2022-07-10T13:21:58.274114Z",
     "iopub.status.busy": "2022-07-10T13:21:58.273523Z",
     "iopub.status.idle": "2022-07-10T13:21:58.291590Z",
     "shell.execute_reply": "2022-07-10T13:21:58.290627Z"
    },
    "papermill": {
     "duration": 0.028059,
     "end_time": "2022-07-10T13:21:58.293732",
     "exception": false,
     "start_time": "2022-07-10T13:21:58.265673",
     "status": "completed"
    },
    "tags": []
   },
   "outputs": [],
   "source": [
    "# 최신 상품 구매 날\n",
    "active_articles = df.groupby(\"article_id\")['t_dat'].max().reset_index()"
   ]
  },
  {
   "cell_type": "code",
   "execution_count": 8,
   "id": "5eac197a",
   "metadata": {
    "execution": {
     "iopub.execute_input": "2022-07-10T13:21:58.308463Z",
     "iopub.status.busy": "2022-07-10T13:21:58.307837Z",
     "iopub.status.idle": "2022-07-10T13:21:58.319004Z",
     "shell.execute_reply": "2022-07-10T13:21:58.318297Z"
    },
    "papermill": {
     "duration": 0.020682,
     "end_time": "2022-07-10T13:21:58.320962",
     "exception": false,
     "start_time": "2022-07-10T13:21:58.300280",
     "status": "completed"
    },
    "tags": []
   },
   "outputs": [
    {
     "data": {
      "text/html": [
       "<div>\n",
       "<style scoped>\n",
       "    .dataframe tbody tr th:only-of-type {\n",
       "        vertical-align: middle;\n",
       "    }\n",
       "\n",
       "    .dataframe tbody tr th {\n",
       "        vertical-align: top;\n",
       "    }\n",
       "\n",
       "    .dataframe thead th {\n",
       "        text-align: right;\n",
       "    }\n",
       "</style>\n",
       "<table border=\"1\" class=\"dataframe\">\n",
       "  <thead>\n",
       "    <tr style=\"text-align: right;\">\n",
       "      <th></th>\n",
       "      <th>article_id</th>\n",
       "      <th>t_dat</th>\n",
       "    </tr>\n",
       "  </thead>\n",
       "  <tbody>\n",
       "    <tr>\n",
       "      <th>0</th>\n",
       "      <td>0108775015</td>\n",
       "      <td>2019-05-12</td>\n",
       "    </tr>\n",
       "    <tr>\n",
       "      <th>1</th>\n",
       "      <td>0108775044</td>\n",
       "      <td>2020-06-22</td>\n",
       "    </tr>\n",
       "    <tr>\n",
       "      <th>2</th>\n",
       "      <td>0110065001</td>\n",
       "      <td>2018-11-14</td>\n",
       "    </tr>\n",
       "    <tr>\n",
       "      <th>3</th>\n",
       "      <td>0111565001</td>\n",
       "      <td>2018-12-27</td>\n",
       "    </tr>\n",
       "    <tr>\n",
       "      <th>4</th>\n",
       "      <td>0111586001</td>\n",
       "      <td>2020-08-29</td>\n",
       "    </tr>\n",
       "    <tr>\n",
       "      <th>...</th>\n",
       "      <td>...</td>\n",
       "      <td>...</td>\n",
       "    </tr>\n",
       "    <tr>\n",
       "      <th>5372</th>\n",
       "      <td>0933928002</td>\n",
       "      <td>2020-08-28</td>\n",
       "    </tr>\n",
       "    <tr>\n",
       "      <th>5373</th>\n",
       "      <td>0935787001</td>\n",
       "      <td>2020-08-23</td>\n",
       "    </tr>\n",
       "    <tr>\n",
       "      <th>5374</th>\n",
       "      <td>0936282001</td>\n",
       "      <td>2020-08-25</td>\n",
       "    </tr>\n",
       "    <tr>\n",
       "      <th>5375</th>\n",
       "      <td>0937915001</td>\n",
       "      <td>2020-08-22</td>\n",
       "    </tr>\n",
       "    <tr>\n",
       "      <th>5376</th>\n",
       "      <td>0947060001</td>\n",
       "      <td>2020-09-04</td>\n",
       "    </tr>\n",
       "  </tbody>\n",
       "</table>\n",
       "<p>5377 rows × 2 columns</p>\n",
       "</div>"
      ],
      "text/plain": [
       "      article_id      t_dat\n",
       "0     0108775015 2019-05-12\n",
       "1     0108775044 2020-06-22\n",
       "2     0110065001 2018-11-14\n",
       "3     0111565001 2018-12-27\n",
       "4     0111586001 2020-08-29\n",
       "...          ...        ...\n",
       "5372  0933928002 2020-08-28\n",
       "5373  0935787001 2020-08-23\n",
       "5374  0936282001 2020-08-25\n",
       "5375  0937915001 2020-08-22\n",
       "5376  0947060001 2020-09-04\n",
       "\n",
       "[5377 rows x 2 columns]"
      ]
     },
     "execution_count": 8,
     "metadata": {},
     "output_type": "execute_result"
    }
   ],
   "source": [
    "active_articles"
   ]
  },
  {
   "cell_type": "code",
   "execution_count": 9,
   "id": "a878d794",
   "metadata": {
    "execution": {
     "iopub.execute_input": "2022-07-10T13:21:58.336270Z",
     "iopub.status.busy": "2022-07-10T13:21:58.335623Z",
     "iopub.status.idle": "2022-07-10T13:21:58.344558Z",
     "shell.execute_reply": "2022-07-10T13:21:58.343541Z"
    },
    "papermill": {
     "duration": 0.019075,
     "end_time": "2022-07-10T13:21:58.346635",
     "exception": false,
     "start_time": "2022-07-10T13:21:58.327560",
     "status": "completed"
    },
    "tags": []
   },
   "outputs": [
    {
     "data": {
      "text/plain": [
       "(2925, 2)"
      ]
     },
     "execution_count": 9,
     "metadata": {},
     "output_type": "execute_result"
    }
   ],
   "source": [
    "active_articles  = active_articles[active_articles['t_dat'] >= \"2019-08-01\"]\n",
    "active_articles.shape"
   ]
  },
  {
   "cell_type": "code",
   "execution_count": 10,
   "id": "c0af9241",
   "metadata": {
    "execution": {
     "iopub.execute_input": "2022-07-10T13:21:58.362466Z",
     "iopub.status.busy": "2022-07-10T13:21:58.362067Z",
     "iopub.status.idle": "2022-07-10T13:21:58.373834Z",
     "shell.execute_reply": "2022-07-10T13:21:58.372927Z"
    },
    "papermill": {
     "duration": 0.021356,
     "end_time": "2022-07-10T13:21:58.375717",
     "exception": false,
     "start_time": "2022-07-10T13:21:58.354361",
     "status": "completed"
    },
    "tags": []
   },
   "outputs": [],
   "source": [
    "\n",
    "df2 = df[df[\"article_id\"].isin(active_articles[\"article_id\"])].reset_index(drop=True)"
   ]
  },
  {
   "cell_type": "code",
   "execution_count": 11,
   "id": "4a0cf6ba",
   "metadata": {
    "execution": {
     "iopub.execute_input": "2022-07-10T13:21:58.390794Z",
     "iopub.status.busy": "2022-07-10T13:21:58.390147Z",
     "iopub.status.idle": "2022-07-10T13:21:58.403917Z",
     "shell.execute_reply": "2022-07-10T13:21:58.403135Z"
    },
    "papermill": {
     "duration": 0.023371,
     "end_time": "2022-07-10T13:21:58.405787",
     "exception": false,
     "start_time": "2022-07-10T13:21:58.382416",
     "status": "completed"
    },
    "tags": []
   },
   "outputs": [
    {
     "data": {
      "text/html": [
       "<div>\n",
       "<style scoped>\n",
       "    .dataframe tbody tr th:only-of-type {\n",
       "        vertical-align: middle;\n",
       "    }\n",
       "\n",
       "    .dataframe tbody tr th {\n",
       "        vertical-align: top;\n",
       "    }\n",
       "\n",
       "    .dataframe thead th {\n",
       "        text-align: right;\n",
       "    }\n",
       "</style>\n",
       "<table border=\"1\" class=\"dataframe\">\n",
       "  <thead>\n",
       "    <tr style=\"text-align: right;\">\n",
       "      <th></th>\n",
       "      <th>t_dat</th>\n",
       "      <th>customer_id</th>\n",
       "      <th>article_id</th>\n",
       "      <th>price</th>\n",
       "      <th>sales_channel_id</th>\n",
       "    </tr>\n",
       "  </thead>\n",
       "  <tbody>\n",
       "    <tr>\n",
       "      <th>0</th>\n",
       "      <td>2018-09-20</td>\n",
       "      <td>689c6572a628613d1c87b286ba07ff947368b52b1b5839...</td>\n",
       "      <td>0562245004</td>\n",
       "      <td>0.023712</td>\n",
       "      <td>2</td>\n",
       "    </tr>\n",
       "    <tr>\n",
       "      <th>1</th>\n",
       "      <td>2018-09-20</td>\n",
       "      <td>9c88a9a348f4c2d2a5b8fae64116da5f59cbb20bf41a6c...</td>\n",
       "      <td>0399223001</td>\n",
       "      <td>0.033881</td>\n",
       "      <td>1</td>\n",
       "    </tr>\n",
       "    <tr>\n",
       "      <th>2</th>\n",
       "      <td>2018-09-27</td>\n",
       "      <td>05cbb16555c26d78b2167bb5625b61a331abe9dd949530...</td>\n",
       "      <td>0673677002</td>\n",
       "      <td>0.016932</td>\n",
       "      <td>1</td>\n",
       "    </tr>\n",
       "    <tr>\n",
       "      <th>3</th>\n",
       "      <td>2018-09-28</td>\n",
       "      <td>d9e7212fe96bbd8b11cdeffacab86c6f6d16742e283f1a...</td>\n",
       "      <td>0678086001</td>\n",
       "      <td>0.025407</td>\n",
       "      <td>2</td>\n",
       "    </tr>\n",
       "    <tr>\n",
       "      <th>4</th>\n",
       "      <td>2018-09-29</td>\n",
       "      <td>aa93e28e573c3279b25584240048c47dee7d2e716bda67...</td>\n",
       "      <td>0399223001</td>\n",
       "      <td>0.033881</td>\n",
       "      <td>2</td>\n",
       "    </tr>\n",
       "    <tr>\n",
       "      <th>...</th>\n",
       "      <td>...</td>\n",
       "      <td>...</td>\n",
       "      <td>...</td>\n",
       "      <td>...</td>\n",
       "      <td>...</td>\n",
       "    </tr>\n",
       "    <tr>\n",
       "      <th>3633</th>\n",
       "      <td>2020-09-22</td>\n",
       "      <td>48d9816605d183db54739b5ae69a1e596e2a3ebb0e051e...</td>\n",
       "      <td>0750423020</td>\n",
       "      <td>0.036000</td>\n",
       "      <td>1</td>\n",
       "    </tr>\n",
       "    <tr>\n",
       "      <th>3634</th>\n",
       "      <td>2020-09-22</td>\n",
       "      <td>6fc127bf47a7785d4737c7c11d68fd0835b36aae8b632c...</td>\n",
       "      <td>0924518002</td>\n",
       "      <td>0.042356</td>\n",
       "      <td>1</td>\n",
       "    </tr>\n",
       "    <tr>\n",
       "      <th>3635</th>\n",
       "      <td>2020-09-22</td>\n",
       "      <td>977bc45d15bf515730b0e9e6cf7991b4df2defff5ae952...</td>\n",
       "      <td>0572797002</td>\n",
       "      <td>0.011847</td>\n",
       "      <td>2</td>\n",
       "    </tr>\n",
       "    <tr>\n",
       "      <th>3636</th>\n",
       "      <td>2020-09-22</td>\n",
       "      <td>bd5bcbd7bec3aed4fdbd3b3f581bfa9aaa61ed5b6ca3c0...</td>\n",
       "      <td>0917294003</td>\n",
       "      <td>0.025407</td>\n",
       "      <td>2</td>\n",
       "    </tr>\n",
       "    <tr>\n",
       "      <th>3637</th>\n",
       "      <td>2020-09-22</td>\n",
       "      <td>e56673a81ca28f189257f7a6b25c4d214dfb36a5d405b2...</td>\n",
       "      <td>0852379003</td>\n",
       "      <td>0.028797</td>\n",
       "      <td>1</td>\n",
       "    </tr>\n",
       "  </tbody>\n",
       "</table>\n",
       "<p>3638 rows × 5 columns</p>\n",
       "</div>"
      ],
      "text/plain": [
       "          t_dat                                        customer_id  \\\n",
       "0    2018-09-20  689c6572a628613d1c87b286ba07ff947368b52b1b5839...   \n",
       "1    2018-09-20  9c88a9a348f4c2d2a5b8fae64116da5f59cbb20bf41a6c...   \n",
       "2    2018-09-27  05cbb16555c26d78b2167bb5625b61a331abe9dd949530...   \n",
       "3    2018-09-28  d9e7212fe96bbd8b11cdeffacab86c6f6d16742e283f1a...   \n",
       "4    2018-09-29  aa93e28e573c3279b25584240048c47dee7d2e716bda67...   \n",
       "...         ...                                                ...   \n",
       "3633 2020-09-22  48d9816605d183db54739b5ae69a1e596e2a3ebb0e051e...   \n",
       "3634 2020-09-22  6fc127bf47a7785d4737c7c11d68fd0835b36aae8b632c...   \n",
       "3635 2020-09-22  977bc45d15bf515730b0e9e6cf7991b4df2defff5ae952...   \n",
       "3636 2020-09-22  bd5bcbd7bec3aed4fdbd3b3f581bfa9aaa61ed5b6ca3c0...   \n",
       "3637 2020-09-22  e56673a81ca28f189257f7a6b25c4d214dfb36a5d405b2...   \n",
       "\n",
       "      article_id     price  sales_channel_id  \n",
       "0     0562245004  0.023712                 2  \n",
       "1     0399223001  0.033881                 1  \n",
       "2     0673677002  0.016932                 1  \n",
       "3     0678086001  0.025407                 2  \n",
       "4     0399223001  0.033881                 2  \n",
       "...          ...       ...               ...  \n",
       "3633  0750423020  0.036000                 1  \n",
       "3634  0924518002  0.042356                 1  \n",
       "3635  0572797002  0.011847                 2  \n",
       "3636  0917294003  0.025407                 2  \n",
       "3637  0852379003  0.028797                 1  \n",
       "\n",
       "[3638 rows x 5 columns]"
      ]
     },
     "execution_count": 11,
     "metadata": {},
     "output_type": "execute_result"
    }
   ],
   "source": [
    "df2"
   ]
  },
  {
   "cell_type": "code",
   "execution_count": 12,
   "id": "9ae82619",
   "metadata": {
    "execution": {
     "iopub.execute_input": "2022-07-10T13:21:58.421314Z",
     "iopub.status.busy": "2022-07-10T13:21:58.420684Z",
     "iopub.status.idle": "2022-07-10T13:21:58.429233Z",
     "shell.execute_reply": "2022-07-10T13:21:58.428524Z"
    },
    "papermill": {
     "duration": 0.01851,
     "end_time": "2022-07-10T13:21:58.431180",
     "exception": false,
     "start_time": "2022-07-10T13:21:58.412670",
     "status": "completed"
    },
    "tags": []
   },
   "outputs": [
    {
     "data": {
      "text/plain": [
       "0       104\n",
       "1       104\n",
       "2       103\n",
       "3       103\n",
       "4       103\n",
       "       ... \n",
       "3633      0\n",
       "3634      0\n",
       "3635      0\n",
       "3636      0\n",
       "3637      0\n",
       "Name: t_dat, Length: 3638, dtype: int64"
      ]
     },
     "execution_count": 12,
     "metadata": {},
     "output_type": "execute_result"
    }
   ],
   "source": [
    "(df2[\"t_dat\"].max() - df2[\"t_dat\"]).dt.days // 7"
   ]
  },
  {
   "cell_type": "code",
   "execution_count": 13,
   "id": "499f2e12",
   "metadata": {
    "execution": {
     "iopub.execute_input": "2022-07-10T13:21:58.446805Z",
     "iopub.status.busy": "2022-07-10T13:21:58.446145Z",
     "iopub.status.idle": "2022-07-10T13:21:58.455500Z",
     "shell.execute_reply": "2022-07-10T13:21:58.454572Z"
    },
    "papermill": {
     "duration": 0.019558,
     "end_time": "2022-07-10T13:21:58.457537",
     "exception": false,
     "start_time": "2022-07-10T13:21:58.437979",
     "status": "completed"
    },
    "tags": []
   },
   "outputs": [
    {
     "data": {
      "text/plain": [
       "13     110\n",
       "42     104\n",
       "12     104\n",
       "51      85\n",
       "23      80\n",
       "      ... \n",
       "88       2\n",
       "104      2\n",
       "96       1\n",
       "97       1\n",
       "100      1\n",
       "Name: week, Length: 104, dtype: int64"
      ]
     },
     "execution_count": 13,
     "metadata": {},
     "output_type": "execute_result"
    }
   ],
   "source": [
    "df2[\"week\"] = (df2[\"t_dat\"].max() - df2[\"t_dat\"]).dt.days // 7\n",
    "df2[\"week\"].value_counts()"
   ]
  },
  {
   "cell_type": "code",
   "execution_count": 14,
   "id": "88678ec3",
   "metadata": {
    "execution": {
     "iopub.execute_input": "2022-07-10T13:21:58.473516Z",
     "iopub.status.busy": "2022-07-10T13:21:58.472820Z",
     "iopub.status.idle": "2022-07-10T13:21:59.606916Z",
     "shell.execute_reply": "2022-07-10T13:21:59.605735Z"
    },
    "papermill": {
     "duration": 1.144967,
     "end_time": "2022-07-10T13:21:59.609489",
     "exception": false,
     "start_time": "2022-07-10T13:21:58.464522",
     "status": "completed"
    },
    "tags": []
   },
   "outputs": [],
   "source": [
    "from sklearn.preprocessing import LabelEncoder"
   ]
  },
  {
   "cell_type": "code",
   "execution_count": 15,
   "id": "2d18272c",
   "metadata": {
    "execution": {
     "iopub.execute_input": "2022-07-10T13:21:59.625701Z",
     "iopub.status.busy": "2022-07-10T13:21:59.625003Z",
     "iopub.status.idle": "2022-07-10T13:21:59.638596Z",
     "shell.execute_reply": "2022-07-10T13:21:59.637569Z"
    },
    "papermill": {
     "duration": 0.02406,
     "end_time": "2022-07-10T13:21:59.640704",
     "exception": false,
     "start_time": "2022-07-10T13:21:59.616644",
     "status": "completed"
    },
    "tags": []
   },
   "outputs": [
    {
     "data": {
      "text/plain": [
       "array(['0108775015', '0108775044', '0110065001', ..., '0936282001',\n",
       "       '0937915001', '0947060001'], dtype=object)"
      ]
     },
     "execution_count": 15,
     "metadata": {},
     "output_type": "execute_result"
    }
   ],
   "source": [
    " np.unique(df[\"article_id\"].values)"
   ]
  },
  {
   "cell_type": "code",
   "execution_count": 16,
   "id": "3a7617b4",
   "metadata": {
    "execution": {
     "iopub.execute_input": "2022-07-10T13:21:59.656904Z",
     "iopub.status.busy": "2022-07-10T13:21:59.656532Z",
     "iopub.status.idle": "2022-07-10T13:21:59.668691Z",
     "shell.execute_reply": "2022-07-10T13:21:59.667612Z"
    },
    "papermill": {
     "duration": 0.022703,
     "end_time": "2022-07-10T13:21:59.670748",
     "exception": false,
     "start_time": "2022-07-10T13:21:59.648045",
     "status": "completed"
    },
    "tags": []
   },
   "outputs": [],
   "source": [
    "article_ids = np.concatenate([[\"placeholder\"], np.unique(df[\"article_id\"].values)])"
   ]
  },
  {
   "cell_type": "code",
   "execution_count": 17,
   "id": "087feec2",
   "metadata": {
    "execution": {
     "iopub.execute_input": "2022-07-10T13:21:59.687003Z",
     "iopub.status.busy": "2022-07-10T13:21:59.686637Z",
     "iopub.status.idle": "2022-07-10T13:21:59.692615Z",
     "shell.execute_reply": "2022-07-10T13:21:59.691538Z"
    },
    "papermill": {
     "duration": 0.016626,
     "end_time": "2022-07-10T13:21:59.694448",
     "exception": false,
     "start_time": "2022-07-10T13:21:59.677822",
     "status": "completed"
    },
    "tags": []
   },
   "outputs": [
    {
     "data": {
      "text/plain": [
       "array(['placeholder', '0108775015', '0108775044', ..., '0936282001',\n",
       "       '0937915001', '0947060001'], dtype=object)"
      ]
     },
     "execution_count": 17,
     "metadata": {},
     "output_type": "execute_result"
    }
   ],
   "source": [
    "article_ids"
   ]
  },
  {
   "cell_type": "code",
   "execution_count": 18,
   "id": "0cc5e1dc",
   "metadata": {
    "execution": {
     "iopub.execute_input": "2022-07-10T13:21:59.711153Z",
     "iopub.status.busy": "2022-07-10T13:21:59.709993Z",
     "iopub.status.idle": "2022-07-10T13:21:59.728025Z",
     "shell.execute_reply": "2022-07-10T13:21:59.727052Z"
    },
    "papermill": {
     "duration": 0.028504,
     "end_time": "2022-07-10T13:21:59.730126",
     "exception": false,
     "start_time": "2022-07-10T13:21:59.701622",
     "status": "completed"
    },
    "tags": []
   },
   "outputs": [
    {
     "data": {
      "text/plain": [
       "LabelEncoder()"
      ]
     },
     "execution_count": 18,
     "metadata": {},
     "output_type": "execute_result"
    }
   ],
   "source": [
    "le_article = LabelEncoder()\n",
    "le_article.fit(article_ids)"
   ]
  },
  {
   "cell_type": "code",
   "execution_count": 19,
   "id": "de2d5ce4",
   "metadata": {
    "execution": {
     "iopub.execute_input": "2022-07-10T13:21:59.746662Z",
     "iopub.status.busy": "2022-07-10T13:21:59.745686Z",
     "iopub.status.idle": "2022-07-10T13:21:59.754084Z",
     "shell.execute_reply": "2022-07-10T13:21:59.753203Z"
    },
    "papermill": {
     "duration": 0.0188,
     "end_time": "2022-07-10T13:21:59.756138",
     "exception": false,
     "start_time": "2022-07-10T13:21:59.737338",
     "status": "completed"
    },
    "tags": []
   },
   "outputs": [
    {
     "data": {
      "text/plain": [
       "0       0562245004\n",
       "1       0399223001\n",
       "2       0673677002\n",
       "3       0678086001\n",
       "4       0399223001\n",
       "           ...    \n",
       "3633    0750423020\n",
       "3634    0924518002\n",
       "3635    0572797002\n",
       "3636    0917294003\n",
       "3637    0852379003\n",
       "Name: article_id, Length: 3638, dtype: object"
      ]
     },
     "execution_count": 19,
     "metadata": {},
     "output_type": "execute_result"
    }
   ],
   "source": [
    "df2['article_id']"
   ]
  },
  {
   "cell_type": "code",
   "execution_count": 20,
   "id": "575eb75e",
   "metadata": {
    "execution": {
     "iopub.execute_input": "2022-07-10T13:21:59.772747Z",
     "iopub.status.busy": "2022-07-10T13:21:59.772105Z",
     "iopub.status.idle": "2022-07-10T13:21:59.788446Z",
     "shell.execute_reply": "2022-07-10T13:21:59.787539Z"
    },
    "papermill": {
     "duration": 0.026957,
     "end_time": "2022-07-10T13:21:59.790513",
     "exception": false,
     "start_time": "2022-07-10T13:21:59.763556",
     "status": "completed"
    },
    "tags": []
   },
   "outputs": [
    {
     "data": {
      "text/plain": [
       "0        615\n",
       "1        162\n",
       "2       1746\n",
       "3       1823\n",
       "4        162\n",
       "        ... \n",
       "3633    3339\n",
       "3634    5360\n",
       "3635     731\n",
       "3636    5343\n",
       "3637    4840\n",
       "Name: article_id, Length: 3638, dtype: int64"
      ]
     },
     "execution_count": 20,
     "metadata": {},
     "output_type": "execute_result"
    }
   ],
   "source": [
    "df2['article_id'] = le_article.transform(df2[\"article_id\"])\n",
    "df2['article_id']"
   ]
  },
  {
   "cell_type": "code",
   "execution_count": 21,
   "id": "7608831a",
   "metadata": {
    "execution": {
     "iopub.execute_input": "2022-07-10T13:21:59.807583Z",
     "iopub.status.busy": "2022-07-10T13:21:59.806931Z",
     "iopub.status.idle": "2022-07-10T13:21:59.810665Z",
     "shell.execute_reply": "2022-07-10T13:21:59.809925Z"
    },
    "papermill": {
     "duration": 0.014253,
     "end_time": "2022-07-10T13:21:59.812365",
     "exception": false,
     "start_time": "2022-07-10T13:21:59.798112",
     "status": "completed"
    },
    "tags": []
   },
   "outputs": [],
   "source": [
    "WEEK_HIST_MAX = 5\n"
   ]
  },
  {
   "cell_type": "code",
   "execution_count": 22,
   "id": "e4a93f8c",
   "metadata": {
    "execution": {
     "iopub.execute_input": "2022-07-10T13:21:59.829286Z",
     "iopub.status.busy": "2022-07-10T13:21:59.828854Z",
     "iopub.status.idle": "2022-07-10T13:21:59.835323Z",
     "shell.execute_reply": "2022-07-10T13:21:59.834543Z"
    },
    "papermill": {
     "duration": 0.017442,
     "end_time": "2022-07-10T13:21:59.837186",
     "exception": false,
     "start_time": "2022-07-10T13:21:59.819744",
     "status": "completed"
    },
    "tags": []
   },
   "outputs": [],
   "source": [
    "week = 3\n",
    "hist_df = df2[(df2[\"week\"] > week) & (df2[\"week\"] <= week + WEEK_HIST_MAX)]"
   ]
  },
  {
   "cell_type": "code",
   "execution_count": 23,
   "id": "e0e4da90",
   "metadata": {
    "execution": {
     "iopub.execute_input": "2022-07-10T13:21:59.854053Z",
     "iopub.status.busy": "2022-07-10T13:21:59.853448Z",
     "iopub.status.idle": "2022-07-10T13:21:59.868266Z",
     "shell.execute_reply": "2022-07-10T13:21:59.867092Z"
    },
    "papermill": {
     "duration": 0.026123,
     "end_time": "2022-07-10T13:21:59.870662",
     "exception": false,
     "start_time": "2022-07-10T13:21:59.844539",
     "status": "completed"
    },
    "tags": []
   },
   "outputs": [],
   "source": [
    "hist_df = hist_df.groupby(\"customer_id\").agg({\"article_id\": list, \"week\": list}).reset_index()"
   ]
  },
  {
   "cell_type": "code",
   "execution_count": 24,
   "id": "1dee5ef4",
   "metadata": {
    "execution": {
     "iopub.execute_input": "2022-07-10T13:21:59.887261Z",
     "iopub.status.busy": "2022-07-10T13:21:59.886847Z",
     "iopub.status.idle": "2022-07-10T13:21:59.906307Z",
     "shell.execute_reply": "2022-07-10T13:21:59.905245Z"
    },
    "papermill": {
     "duration": 0.030221,
     "end_time": "2022-07-10T13:21:59.908481",
     "exception": false,
     "start_time": "2022-07-10T13:21:59.878260",
     "status": "completed"
    },
    "tags": []
   },
   "outputs": [
    {
     "data": {
      "text/html": [
       "<div>\n",
       "<style scoped>\n",
       "    .dataframe tbody tr th:only-of-type {\n",
       "        vertical-align: middle;\n",
       "    }\n",
       "\n",
       "    .dataframe tbody tr th {\n",
       "        vertical-align: top;\n",
       "    }\n",
       "\n",
       "    .dataframe thead th {\n",
       "        text-align: right;\n",
       "    }\n",
       "</style>\n",
       "<table border=\"1\" class=\"dataframe\">\n",
       "  <thead>\n",
       "    <tr style=\"text-align: right;\">\n",
       "      <th></th>\n",
       "      <th>customer_id</th>\n",
       "      <th>article_id</th>\n",
       "      <th>week</th>\n",
       "    </tr>\n",
       "  </thead>\n",
       "  <tbody>\n",
       "    <tr>\n",
       "      <th>0</th>\n",
       "      <td>001bf9b4bb1cbd8e24659de883b197deebf276ab7a4958...</td>\n",
       "      <td>[2425]</td>\n",
       "      <td>[8]</td>\n",
       "    </tr>\n",
       "    <tr>\n",
       "      <th>1</th>\n",
       "      <td>00fa33158eb59432984490a9c7bac5897496e841cca799...</td>\n",
       "      <td>[3069]</td>\n",
       "      <td>[7]</td>\n",
       "    </tr>\n",
       "    <tr>\n",
       "      <th>2</th>\n",
       "      <td>020de0fbb3339f8f044db4bf1f5c3de979bf3018c17c5c...</td>\n",
       "      <td>[3601]</td>\n",
       "      <td>[6]</td>\n",
       "    </tr>\n",
       "    <tr>\n",
       "      <th>3</th>\n",
       "      <td>02a18b13df6dc0b84c2e5d000a3c287e2dbceed416052a...</td>\n",
       "      <td>[4795]</td>\n",
       "      <td>[7]</td>\n",
       "    </tr>\n",
       "    <tr>\n",
       "      <th>4</th>\n",
       "      <td>0477e91b40ad35303c006c7bde864b82d5b74f440810f4...</td>\n",
       "      <td>[4577]</td>\n",
       "      <td>[7]</td>\n",
       "    </tr>\n",
       "    <tr>\n",
       "      <th>...</th>\n",
       "      <td>...</td>\n",
       "      <td>...</td>\n",
       "      <td>...</td>\n",
       "    </tr>\n",
       "    <tr>\n",
       "      <th>281</th>\n",
       "      <td>f7f3d6582061da0ac32f3b72fd806e4a0627dd689db45d...</td>\n",
       "      <td>[5303]</td>\n",
       "      <td>[8]</td>\n",
       "    </tr>\n",
       "    <tr>\n",
       "      <th>282</th>\n",
       "      <td>f8a4b45084fecf5419b92c14111add3b6250451967fef2...</td>\n",
       "      <td>[4227]</td>\n",
       "      <td>[8]</td>\n",
       "    </tr>\n",
       "    <tr>\n",
       "      <th>283</th>\n",
       "      <td>fc106c70100e1e763504b4747954d1ccdd4f9757a1c6f0...</td>\n",
       "      <td>[642]</td>\n",
       "      <td>[4]</td>\n",
       "    </tr>\n",
       "    <tr>\n",
       "      <th>284</th>\n",
       "      <td>fc28d7b59c58cd83da1b2425e40840b4eba2392fe5dad8...</td>\n",
       "      <td>[4844]</td>\n",
       "      <td>[4]</td>\n",
       "    </tr>\n",
       "    <tr>\n",
       "      <th>285</th>\n",
       "      <td>fdbe959d7f4c601a8e111ca01a02644406b0da4b2b636a...</td>\n",
       "      <td>[5089]</td>\n",
       "      <td>[6]</td>\n",
       "    </tr>\n",
       "  </tbody>\n",
       "</table>\n",
       "<p>286 rows × 3 columns</p>\n",
       "</div>"
      ],
      "text/plain": [
       "                                           customer_id article_id week\n",
       "0    001bf9b4bb1cbd8e24659de883b197deebf276ab7a4958...     [2425]  [8]\n",
       "1    00fa33158eb59432984490a9c7bac5897496e841cca799...     [3069]  [7]\n",
       "2    020de0fbb3339f8f044db4bf1f5c3de979bf3018c17c5c...     [3601]  [6]\n",
       "3    02a18b13df6dc0b84c2e5d000a3c287e2dbceed416052a...     [4795]  [7]\n",
       "4    0477e91b40ad35303c006c7bde864b82d5b74f440810f4...     [4577]  [7]\n",
       "..                                                 ...        ...  ...\n",
       "281  f7f3d6582061da0ac32f3b72fd806e4a0627dd689db45d...     [5303]  [8]\n",
       "282  f8a4b45084fecf5419b92c14111add3b6250451967fef2...     [4227]  [8]\n",
       "283  fc106c70100e1e763504b4747954d1ccdd4f9757a1c6f0...      [642]  [4]\n",
       "284  fc28d7b59c58cd83da1b2425e40840b4eba2392fe5dad8...     [4844]  [4]\n",
       "285  fdbe959d7f4c601a8e111ca01a02644406b0da4b2b636a...     [5089]  [6]\n",
       "\n",
       "[286 rows x 3 columns]"
      ]
     },
     "execution_count": 24,
     "metadata": {},
     "output_type": "execute_result"
    }
   ],
   "source": [
    "hist_df"
   ]
  },
  {
   "cell_type": "code",
   "execution_count": 25,
   "id": "713dbf52",
   "metadata": {
    "execution": {
     "iopub.execute_input": "2022-07-10T13:21:59.925561Z",
     "iopub.status.busy": "2022-07-10T13:21:59.925145Z",
     "iopub.status.idle": "2022-07-10T13:21:59.932548Z",
     "shell.execute_reply": "2022-07-10T13:21:59.931465Z"
    },
    "papermill": {
     "duration": 0.018256,
     "end_time": "2022-07-10T13:21:59.934625",
     "exception": false,
     "start_time": "2022-07-10T13:21:59.916369",
     "status": "completed"
    },
    "tags": []
   },
   "outputs": [],
   "source": [
    "def create_dataset(df, week):\n",
    "    hist_df = df[(df[\"week\"] > week) & (df[\"week\"] <= week + WEEK_HIST_MAX)]\n",
    "    hist_df = hist_df.groupby(\"customer_id\").agg({\"article_id\": list, \"week\": list}).reset_index()\n",
    "    hist_df.rename(columns={\"week\": 'week_history'}, inplace=True)\n",
    "    \n",
    "    target_df = df[df[\"week\"] == week]\n",
    "    target_df = target_df.groupby(\"customer_id\").agg({\"article_id\": list}).reset_index()\n",
    "    target_df.rename(columns={\"article_id\": \"target\"}, inplace=True)\n",
    "    target_df[\"week\"] = week\n",
    "    \n",
    "    return target_df.merge(hist_df, on=\"customer_id\", how=\"left\")"
   ]
  },
  {
   "cell_type": "code",
   "execution_count": 26,
   "id": "be60b935",
   "metadata": {
    "execution": {
     "iopub.execute_input": "2022-07-10T13:21:59.951364Z",
     "iopub.status.busy": "2022-07-10T13:21:59.950956Z",
     "iopub.status.idle": "2022-07-10T13:22:00.036991Z",
     "shell.execute_reply": "2022-07-10T13:22:00.036230Z"
    },
    "papermill": {
     "duration": 0.096906,
     "end_time": "2022-07-10T13:22:00.039194",
     "exception": false,
     "start_time": "2022-07-10T13:21:59.942288",
     "status": "completed"
    },
    "tags": []
   },
   "outputs": [
    {
     "data": {
      "text/plain": [
       "((212, 5), (48, 5))"
      ]
     },
     "execution_count": 26,
     "metadata": {},
     "output_type": "execute_result"
    }
   ],
   "source": [
    "val_weeks = [0]\n",
    "train_weeks = [1, 2, 3, 4]\n",
    "\n",
    "\n",
    "val_df = pd.concat([create_dataset(df2, w) for w in val_weeks]).reset_index(drop=True)\n",
    "train_df = pd.concat([create_dataset(df2, w) for w in train_weeks]).reset_index(drop=True)\n",
    "train_df.shape, val_df.shape"
   ]
  },
  {
   "cell_type": "code",
   "execution_count": 27,
   "id": "b5f83281",
   "metadata": {
    "execution": {
     "iopub.execute_input": "2022-07-10T13:22:00.056540Z",
     "iopub.status.busy": "2022-07-10T13:22:00.055853Z",
     "iopub.status.idle": "2022-07-10T13:22:00.073020Z",
     "shell.execute_reply": "2022-07-10T13:22:00.071940Z"
    },
    "papermill": {
     "duration": 0.028605,
     "end_time": "2022-07-10T13:22:00.075555",
     "exception": false,
     "start_time": "2022-07-10T13:22:00.046950",
     "status": "completed"
    },
    "tags": []
   },
   "outputs": [
    {
     "data": {
      "text/html": [
       "<div>\n",
       "<style scoped>\n",
       "    .dataframe tbody tr th:only-of-type {\n",
       "        vertical-align: middle;\n",
       "    }\n",
       "\n",
       "    .dataframe tbody tr th {\n",
       "        vertical-align: top;\n",
       "    }\n",
       "\n",
       "    .dataframe thead th {\n",
       "        text-align: right;\n",
       "    }\n",
       "</style>\n",
       "<table border=\"1\" class=\"dataframe\">\n",
       "  <thead>\n",
       "    <tr style=\"text-align: right;\">\n",
       "      <th></th>\n",
       "      <th>customer_id</th>\n",
       "      <th>target</th>\n",
       "      <th>week</th>\n",
       "      <th>article_id</th>\n",
       "      <th>week_history</th>\n",
       "    </tr>\n",
       "  </thead>\n",
       "  <tbody>\n",
       "    <tr>\n",
       "      <th>0</th>\n",
       "      <td>023aa30edd9688574a459972fa90847a3006542c62e6f7...</td>\n",
       "      <td>[5345]</td>\n",
       "      <td>1</td>\n",
       "      <td>NaN</td>\n",
       "      <td>NaN</td>\n",
       "    </tr>\n",
       "    <tr>\n",
       "      <th>1</th>\n",
       "      <td>043f49dd955132ff276adc3b9f756dc7b59013bf095ada...</td>\n",
       "      <td>[5357]</td>\n",
       "      <td>1</td>\n",
       "      <td>NaN</td>\n",
       "      <td>NaN</td>\n",
       "    </tr>\n",
       "    <tr>\n",
       "      <th>2</th>\n",
       "      <td>0d1dbfa8dcc30a803ae292d63fd3b3754b212e46343fa0...</td>\n",
       "      <td>[5354]</td>\n",
       "      <td>1</td>\n",
       "      <td>NaN</td>\n",
       "      <td>NaN</td>\n",
       "    </tr>\n",
       "    <tr>\n",
       "      <th>3</th>\n",
       "      <td>0f2841ab48c80c506fc466a6fcd8dca9b0fda6df0b9577...</td>\n",
       "      <td>[5326]</td>\n",
       "      <td>1</td>\n",
       "      <td>NaN</td>\n",
       "      <td>NaN</td>\n",
       "    </tr>\n",
       "    <tr>\n",
       "      <th>4</th>\n",
       "      <td>1015aaaf4be1d4e7f3119b28970554d7c2eb0d0330818a...</td>\n",
       "      <td>[5339]</td>\n",
       "      <td>1</td>\n",
       "      <td>NaN</td>\n",
       "      <td>NaN</td>\n",
       "    </tr>\n",
       "    <tr>\n",
       "      <th>...</th>\n",
       "      <td>...</td>\n",
       "      <td>...</td>\n",
       "      <td>...</td>\n",
       "      <td>...</td>\n",
       "      <td>...</td>\n",
       "    </tr>\n",
       "    <tr>\n",
       "      <th>207</th>\n",
       "      <td>e9a1e414aa00dc98f7336a23107d9e4690b1464338e2f4...</td>\n",
       "      <td>[3721]</td>\n",
       "      <td>4</td>\n",
       "      <td>NaN</td>\n",
       "      <td>NaN</td>\n",
       "    </tr>\n",
       "    <tr>\n",
       "      <th>208</th>\n",
       "      <td>ed8056b7a7eb4d07e19ee78818e5b63e68fc564ad1cdb9...</td>\n",
       "      <td>[5219]</td>\n",
       "      <td>4</td>\n",
       "      <td>NaN</td>\n",
       "      <td>NaN</td>\n",
       "    </tr>\n",
       "    <tr>\n",
       "      <th>209</th>\n",
       "      <td>edb869d2ccfa1a576b910c9b9ebe704484362a2e3c6e7f...</td>\n",
       "      <td>[5367]</td>\n",
       "      <td>4</td>\n",
       "      <td>NaN</td>\n",
       "      <td>NaN</td>\n",
       "    </tr>\n",
       "    <tr>\n",
       "      <th>210</th>\n",
       "      <td>fc106c70100e1e763504b4747954d1ccdd4f9757a1c6f0...</td>\n",
       "      <td>[642]</td>\n",
       "      <td>4</td>\n",
       "      <td>NaN</td>\n",
       "      <td>NaN</td>\n",
       "    </tr>\n",
       "    <tr>\n",
       "      <th>211</th>\n",
       "      <td>fc28d7b59c58cd83da1b2425e40840b4eba2392fe5dad8...</td>\n",
       "      <td>[4844]</td>\n",
       "      <td>4</td>\n",
       "      <td>NaN</td>\n",
       "      <td>NaN</td>\n",
       "    </tr>\n",
       "  </tbody>\n",
       "</table>\n",
       "<p>212 rows × 5 columns</p>\n",
       "</div>"
      ],
      "text/plain": [
       "                                           customer_id  target  week  \\\n",
       "0    023aa30edd9688574a459972fa90847a3006542c62e6f7...  [5345]     1   \n",
       "1    043f49dd955132ff276adc3b9f756dc7b59013bf095ada...  [5357]     1   \n",
       "2    0d1dbfa8dcc30a803ae292d63fd3b3754b212e46343fa0...  [5354]     1   \n",
       "3    0f2841ab48c80c506fc466a6fcd8dca9b0fda6df0b9577...  [5326]     1   \n",
       "4    1015aaaf4be1d4e7f3119b28970554d7c2eb0d0330818a...  [5339]     1   \n",
       "..                                                 ...     ...   ...   \n",
       "207  e9a1e414aa00dc98f7336a23107d9e4690b1464338e2f4...  [3721]     4   \n",
       "208  ed8056b7a7eb4d07e19ee78818e5b63e68fc564ad1cdb9...  [5219]     4   \n",
       "209  edb869d2ccfa1a576b910c9b9ebe704484362a2e3c6e7f...  [5367]     4   \n",
       "210  fc106c70100e1e763504b4747954d1ccdd4f9757a1c6f0...   [642]     4   \n",
       "211  fc28d7b59c58cd83da1b2425e40840b4eba2392fe5dad8...  [4844]     4   \n",
       "\n",
       "    article_id week_history  \n",
       "0          NaN          NaN  \n",
       "1          NaN          NaN  \n",
       "2          NaN          NaN  \n",
       "3          NaN          NaN  \n",
       "4          NaN          NaN  \n",
       "..         ...          ...  \n",
       "207        NaN          NaN  \n",
       "208        NaN          NaN  \n",
       "209        NaN          NaN  \n",
       "210        NaN          NaN  \n",
       "211        NaN          NaN  \n",
       "\n",
       "[212 rows x 5 columns]"
      ]
     },
     "execution_count": 27,
     "metadata": {},
     "output_type": "execute_result"
    }
   ],
   "source": [
    "train_df"
   ]
  },
  {
   "cell_type": "code",
   "execution_count": null,
   "id": "fc797197",
   "metadata": {
    "papermill": {
     "duration": 0.007862,
     "end_time": "2022-07-10T13:22:00.091476",
     "exception": false,
     "start_time": "2022-07-10T13:22:00.083614",
     "status": "completed"
    },
    "tags": []
   },
   "outputs": [],
   "source": []
  }
 ],
 "metadata": {
  "kernelspec": {
   "display_name": "Python 3",
   "language": "python",
   "name": "python3"
  },
  "language_info": {
   "codemirror_mode": {
    "name": "ipython",
    "version": 3
   },
   "file_extension": ".py",
   "mimetype": "text/x-python",
   "name": "python",
   "nbconvert_exporter": "python",
   "pygments_lexer": "ipython3",
   "version": "3.7.12"
  },
  "papermill": {
   "default_parameters": {},
   "duration": 77.508733,
   "end_time": "2022-07-10T13:22:01.524710",
   "environment_variables": {},
   "exception": null,
   "input_path": "__notebook__.ipynb",
   "output_path": "__notebook__.ipynb",
   "parameters": {},
   "start_time": "2022-07-10T13:20:44.015977",
   "version": "2.3.4"
  }
 },
 "nbformat": 4,
 "nbformat_minor": 5
}
